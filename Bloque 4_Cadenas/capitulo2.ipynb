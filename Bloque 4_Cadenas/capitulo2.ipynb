{
 "cells": [
  {
   "cell_type": "code",
   "execution_count": 2,
   "metadata": {},
   "outputs": [],
   "source": [
    "from langchain.prompts import PromptTemplate, SystemMessagePromptTemplate,ChatPromptTemplate, HumanMessagePromptTemplate\n",
    "from langchain_openai import ChatOpenAI\n",
    "from langchain.chains import SequentialChain, LLMChain\n",
    "from dotenv import load_dotenv"
   ]
  },
  {
   "cell_type": "code",
   "execution_count": 3,
   "metadata": {},
   "outputs": [],
   "source": [
    "llm = ChatOpenAI(model=\"gpt-3.5-turbo\", temperature=0)"
   ]
  },
  {
   "cell_type": "code",
   "execution_count": 4,
   "metadata": {},
   "outputs": [
    {
     "name": "stderr",
     "output_type": "stream",
     "text": [
      "C:\\Users\\tomas\\AppData\\Local\\Temp\\ipykernel_6196\\2815465052.py:3: LangChainDeprecationWarning: The class `LLMChain` was deprecated in LangChain 0.1.17 and will be removed in 1.0. Use :meth:`~RunnableSequence, e.g., `prompt | llm`` instead.\n",
      "  chain_1 = LLMChain(llm=llm, prompt=prompt1, output_key=\"resumen_revision\")\n"
     ]
    }
   ],
   "source": [
    "template1 = \"dame el resumen del rendimiento de este trabjaador: {revision}\"\n",
    "prompt1 = ChatPromptTemplate.from_template(template1)\n",
    "chain_1 = LLMChain(llm=llm, prompt=prompt1, output_key=\"resumen_revision\")\n"
   ]
  },
  {
   "cell_type": "code",
   "execution_count": 5,
   "metadata": {},
   "outputs": [],
   "source": [
    "template2 = \"idenntifica las debilidades de este trabajador dentro de este resumen de revision {resumen_revision}\"\n",
    "Prompt2 = ChatPromptTemplate.from_template(template2)\n",
    "chain_2 = LLMChain(llm=llm, prompt=Prompt2, output_key=\"debilidades\")"
   ]
  },
  {
   "cell_type": "code",
   "execution_count": 6,
   "metadata": {},
   "outputs": [],
   "source": [
    "template3 = \"Crea un plan de mejora para estas debilidades {debilidades}\"\n",
    "Prompt3 = ChatPromptTemplate.from_template(template3)\n",
    "chain_3 = LLMChain(llm=llm, prompt=Prompt3, output_key=\"plan_mejora\")"
   ]
  },
  {
   "cell_type": "code",
   "execution_count": 8,
   "metadata": {},
   "outputs": [],
   "source": [
    "seq_chain = SequentialChain(chains=[chain_1, chain_2, chain_3],input_variables=[\"revision\"], output_variables=['resumen_revision', 'debilidades', 'plan_mejora'])"
   ]
  },
  {
   "cell_type": "code",
   "execution_count": 9,
   "metadata": {},
   "outputs": [],
   "source": [
    "revision_rendimiento_empleado = '''\n",
    "Revisión de Rendimiento del Empleado\n",
    "\n",
    "Nombre del Empleado: Juan Pérez\n",
    "Posición: Analista de Datos\n",
    "Período Evaluado: Enero 2023 - Junio 2023\n",
    "\n",
    "Fortalezas:\n",
    "Juan ha demostrado un fuerte dominio de las herramientas analíticas y ha proporcionado informes detallados y precisos que han sido de gran ayuda para la toma de decisiones estratégicas. Su capacidad para trabajar en equipo y su disposición para ayudar a los demás también han sido notables. Además, ha mostrado una gran ética de trabajo y una actitud positiva en el entorno laboral.\n",
    "\n",
    "Debilidades:\n",
    "A pesar de sus muchas fortalezas, Juan ha mostrado áreas que necesitan mejoras. En particular, se ha observado que a veces tiene dificultades para manejar múltiples tareas simultáneamente, lo que resulta en retrasos en la entrega de proyectos. También ha habido ocasiones en las que la calidad del trabajo ha disminuido bajo presión. Además, se ha identificado una necesidad de mejorar sus habilidades de comunicación, especialmente en lo que respecta a la presentación de datos complejos de manera clara y concisa a los miembros no técnicos del equipo. Finalmente, se ha notado una falta de proactividad en la búsqueda de soluciones a problemas imprevistos, confiando a menudo en la orientación de sus superiores en lugar de tomar la iniciativa.\n",
    "'''"
   ]
  },
  {
   "cell_type": "code",
   "execution_count": 12,
   "metadata": {},
   "outputs": [],
   "source": [
    "result = seq_chain.invoke(revision_rendimiento_empleado)"
   ]
  },
  {
   "cell_type": "code",
   "execution_count": 13,
   "metadata": {},
   "outputs": [
    {
     "name": "stdout",
     "output_type": "stream",
     "text": [
      "{'revision': '\\nRevisión de Rendimiento del Empleado\\n\\nNombre del Empleado: Juan Pérez\\nPosición: Analista de Datos\\nPeríodo Evaluado: Enero 2023 - Junio 2023\\n\\nFortalezas:\\nJuan ha demostrado un fuerte dominio de las herramientas analíticas y ha proporcionado informes detallados y precisos que han sido de gran ayuda para la toma de decisiones estratégicas. Su capacidad para trabajar en equipo y su disposición para ayudar a los demás también han sido notables. Además, ha mostrado una gran ética de trabajo y una actitud positiva en el entorno laboral.\\n\\nDebilidades:\\nA pesar de sus muchas fortalezas, Juan ha mostrado áreas que necesitan mejoras. En particular, se ha observado que a veces tiene dificultades para manejar múltiples tareas simultáneamente, lo que resulta en retrasos en la entrega de proyectos. También ha habido ocasiones en las que la calidad del trabajo ha disminuido bajo presión. Además, se ha identificado una necesidad de mejorar sus habilidades de comunicación, especialmente en lo que respecta a la presentación de datos complejos de manera clara y concisa a los miembros no técnicos del equipo. Finalmente, se ha notado una falta de proactividad en la búsqueda de soluciones a problemas imprevistos, confiando a menudo en la orientación de sus superiores en lugar de tomar la iniciativa.\\n', 'resumen_revision': 'En resumen, Juan Pérez ha demostrado ser un empleado altamente competente en su rol de Analista de Datos, con fuertes habilidades analíticas, ética de trabajo y actitud positiva. Sin embargo, necesita mejorar en áreas como la gestión de múltiples tareas, la calidad del trabajo bajo presión, habilidades de comunicación y proactividad en la resolución de problemas. Se recomienda que Juan reciba capacitación y apoyo para abordar estas áreas de mejora y seguir creciendo en su rol.', 'debilidades': 'Debilidades identificadas:\\n1. Gestión de múltiples tareas: Juan necesita mejorar su capacidad para manejar varias tareas simultáneamente de manera efectiva.\\n2. Calidad del trabajo bajo presión: Juan debe trabajar en mantener la calidad de su trabajo incluso en situaciones de alta presión.\\n3. Habilidades de comunicación: Juan necesita mejorar su habilidad para comunicarse de manera clara y efectiva con colegas y superiores.\\n4. Proactividad en la resolución de problemas: Juan debe ser más proactivo en identificar y abordar problemas en lugar de esperar a que surjan soluciones.', 'plan_mejora': 'Plan de mejora:\\n\\n1. Gestión de múltiples tareas:\\n- Priorizar tareas: Juan debe aprender a identificar las tareas más importantes y urgentes para poder enfocarse en ellas primero.\\n- Utilizar herramientas de organización: Juan puede utilizar herramientas como listas de tareas, calendarios y aplicaciones de gestión de proyectos para mantenerse organizado y no perder de vista ninguna tarea.\\n- Establecer límites de tiempo: Juan puede asignar un tiempo específico para cada tarea y evitar la procrastinación para cumplir con los plazos establecidos.\\n\\n2. Calidad del trabajo bajo presión:\\n- Practicar la gestión del estrés: Juan puede aprender técnicas de manejo del estrés como la respiración profunda, la meditación o el ejercicio para mantener la calma en situaciones de presión.\\n- Mantener la concentración: Juan debe aprender a mantenerse enfocado en la tarea en cuestión y no dejar que el estrés afecte la calidad de su trabajo.\\n- Pedir ayuda si es necesario: Juan debe saber cuándo pedir ayuda a sus colegas o superiores si siente que la presión está afectando su desempeño.\\n\\n3. Habilidades de comunicación:\\n- Tomar cursos de comunicación: Juan puede inscribirse en cursos de comunicación efectiva para mejorar sus habilidades en este aspecto.\\n- Practicar la escucha activa: Juan debe aprender a escuchar atentamente a sus interlocutores para comprender sus necesidades y poder comunicarse de manera más efectiva.\\n- Solicitar retroalimentación: Juan puede pedir retroalimentación a sus colegas y superiores sobre su comunicación para identificar áreas de mejora.\\n\\n4. Proactividad en la resolución de problemas:\\n- Identificar problemas potenciales: Juan debe estar atento a posibles problemas que puedan surgir en su trabajo y actuar proactivamente para abordarlos antes de que se conviertan en situaciones más complicadas.\\n- Generar soluciones: Juan puede dedicar tiempo a pensar en posibles soluciones a problemas comunes en su área de trabajo y proponerlas a su equipo.\\n- Tomar la iniciativa: Juan debe ser proactivo en la implementación de soluciones y no esperar a que otros tomen la iniciativa en la resolución de problemas.'}\n"
     ]
    }
   ],
   "source": [
    "print(result)"
   ]
  },
  {
   "cell_type": "code",
   "execution_count": 16,
   "metadata": {},
   "outputs": [
    {
     "name": "stdout",
     "output_type": "stream",
     "text": [
      "Plan de mejora:\n",
      "\n",
      "1. Gestión de múltiples tareas:\n",
      "- Priorizar tareas: Juan debe aprender a identificar las tareas más importantes y urgentes para poder enfocarse en ellas primero.\n",
      "- Utilizar herramientas de organización: Juan puede utilizar herramientas como listas de tareas, calendarios y aplicaciones de gestión de proyectos para mantenerse organizado y no perder de vista ninguna tarea.\n",
      "- Establecer límites de tiempo: Juan puede asignar un tiempo específico para cada tarea y evitar la procrastinación para cumplir con los plazos establecidos.\n",
      "\n",
      "2. Calidad del trabajo bajo presión:\n",
      "- Practicar la gestión del estrés: Juan puede aprender técnicas de manejo del estrés como la respiración profunda, la meditación o el ejercicio para mantener la calma en situaciones de presión.\n",
      "- Mantener la concentración: Juan debe aprender a mantenerse enfocado en la tarea en cuestión y no dejar que el estrés afecte la calidad de su trabajo.\n",
      "- Pedir ayuda si es necesario: Juan debe saber cuándo pedir ayuda a sus colegas o superiores si siente que la presión está afectando su desempeño.\n",
      "\n",
      "3. Habilidades de comunicación:\n",
      "- Tomar cursos de comunicación: Juan puede inscribirse en cursos de comunicación efectiva para mejorar sus habilidades en este aspecto.\n",
      "- Practicar la escucha activa: Juan debe aprender a escuchar atentamente a sus interlocutores para comprender sus necesidades y poder comunicarse de manera más efectiva.\n",
      "- Solicitar retroalimentación: Juan puede pedir retroalimentación a sus colegas y superiores sobre su comunicación para identificar áreas de mejora.\n",
      "\n",
      "4. Proactividad en la resolución de problemas:\n",
      "- Identificar problemas potenciales: Juan debe estar atento a posibles problemas que puedan surgir en su trabajo y actuar proactivamente para abordarlos antes de que se conviertan en situaciones más complicadas.\n",
      "- Generar soluciones: Juan puede dedicar tiempo a pensar en posibles soluciones a problemas comunes en su área de trabajo y proponerlas a su equipo.\n",
      "- Tomar la iniciativa: Juan debe ser proactivo en la implementación de soluciones y no esperar a que otros tomen la iniciativa en la resolución de problemas.\n"
     ]
    }
   ],
   "source": [
    "print(result['plan_mejora'])"
   ]
  },
  {
   "cell_type": "code",
   "execution_count": null,
   "metadata": {},
   "outputs": [],
   "source": []
  }
 ],
 "metadata": {
  "kernelspec": {
   "display_name": "langchain",
   "language": "python",
   "name": "python3"
  },
  "language_info": {
   "codemirror_mode": {
    "name": "ipython",
    "version": 3
   },
   "file_extension": ".py",
   "mimetype": "text/x-python",
   "name": "python",
   "nbconvert_exporter": "python",
   "pygments_lexer": "ipython3",
   "version": "3.12.8"
  }
 },
 "nbformat": 4,
 "nbformat_minor": 2
}
