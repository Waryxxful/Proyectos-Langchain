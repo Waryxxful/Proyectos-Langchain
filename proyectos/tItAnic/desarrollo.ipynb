{
 "cells": [
  {
   "cell_type": "code",
   "execution_count": null,
   "metadata": {},
   "outputs": [],
   "source": [
    "from langchain_openai import ChatOpenAI\n",
    "import pandas as pd \n",
    "from dotenv import load_dotenv\n",
    "from langchain_openai import ChatOpenAI\n",
    "from langchain_experimental.agents import create_pandas_dataframe_agent\n",
    "import pandas as pd\n",
    "import streamlit as st"
   ]
  },
  {
   "cell_type": "markdown",
   "metadata": {},
   "source": [
    "#### carga del excel a Dataframe pandas"
   ]
  },
  {
   "cell_type": "code",
   "execution_count": 15,
   "metadata": {},
   "outputs": [],
   "source": [
    "df = pd.read_csv(\"data.csv\")"
   ]
  },
  {
   "cell_type": "markdown",
   "metadata": {},
   "source": [
    "#### generacion del modelo LLM"
   ]
  },
  {
   "cell_type": "code",
   "execution_count": 16,
   "metadata": {},
   "outputs": [
    {
     "data": {
      "text/plain": [
       "True"
      ]
     },
     "execution_count": 16,
     "metadata": {},
     "output_type": "execute_result"
    }
   ],
   "source": [
    "load_dotenv()"
   ]
  },
  {
   "cell_type": "code",
   "execution_count": 18,
   "metadata": {},
   "outputs": [],
   "source": [
    "llm = ChatOpenAI(model = \"gpt-3.5-turbo\", temperature = 0.7)"
   ]
  },
  {
   "cell_type": "code",
   "execution_count": 25,
   "metadata": {},
   "outputs": [],
   "source": [
    "agent_executor = create_pandas_dataframe_agent(\n",
    "    llm,\n",
    "    df,\n",
    "    agent_type=\"tool-calling\",\n",
    "    verbose=True,\n",
    "    allow_dangerous_code=True\n",
    ")"
   ]
  },
  {
   "cell_type": "code",
   "execution_count": 26,
   "metadata": {},
   "outputs": [
    {
     "name": "stdout",
     "output_type": "stream",
     "text": [
      "\n",
      "\n",
      "\u001b[1m> Entering new AgentExecutor chain...\u001b[0m\n",
      "\u001b[32;1m\u001b[1;3m\n",
      "Invoking: `python_repl_ast` with `{'query': \"df[df['Sex'] == 'male']['Age'].mean()\"}`\n",
      "\n",
      "\n",
      "\u001b[0m\u001b[36;1m\u001b[1;3m30.72664459161148\u001b[0m\u001b[32;1m\u001b[1;3mLa edad promedio de los hombres en el dataframe es aproximadamente 30.73 años.\u001b[0m\n",
      "\n",
      "\u001b[1m> Finished chain.\u001b[0m\n"
     ]
    },
    {
     "data": {
      "text/plain": [
       "{'input': 'cual es la edad promedio de los hombres',\n",
       " 'output': 'La edad promedio de los hombres en el dataframe es aproximadamente 30.73 años.'}"
      ]
     },
     "execution_count": 26,
     "metadata": {},
     "output_type": "execute_result"
    }
   ],
   "source": [
    "agent_executor.invoke(\"cual es la edad promedio de los hombres\")"
   ]
  },
  {
   "cell_type": "code",
   "execution_count": null,
   "metadata": {},
   "outputs": [],
   "source": [
    "st.title(\"Consultas de datos\")\n",
    "st.write(\"Este es un consultor de datos que ayudara a responder preguntas sobre tabla de datos csv\")\n",
    "excel = st.file_uploader(\"Sube tu archivo csv\", type=[\"csv\"])\n",
    "if excel is not None:\n",
    "    df = pd.read_csv(excel)\n",
    "    agent_executor = create_pandas_dataframe_agent(\n",
    "        llm,\n",
    "        df,\n",
    "        agent_type=\"tool-calling\",\n",
    "        verbose=True,\n",
    "        allow_dangerous_code=True\n",
    "    )\n",
    "    st.write(\"Archivo subido correctamente\")\n",
    "    st.write(df)\n",
    "    pregunta = st.text_input(\"Pregunta\")\n",
    "    if st.button(\"Enviar\"):\n",
    "        respuesta = agent_executor.invoke(pregunta)\n",
    "        st.write(respuesta)"
   ]
  }
 ],
 "metadata": {
  "kernelspec": {
   "display_name": "langchain",
   "language": "python",
   "name": "python3"
  },
  "language_info": {
   "codemirror_mode": {
    "name": "ipython",
    "version": 3
   },
   "file_extension": ".py",
   "mimetype": "text/x-python",
   "name": "python",
   "nbconvert_exporter": "python",
   "pygments_lexer": "ipython3",
   "version": "3.12.8"
  }
 },
 "nbformat": 4,
 "nbformat_minor": 2
}
