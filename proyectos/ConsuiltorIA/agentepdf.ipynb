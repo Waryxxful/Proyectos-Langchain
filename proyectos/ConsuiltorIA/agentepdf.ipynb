{
 "cells": [
  {
   "cell_type": "code",
   "execution_count": null,
   "metadata": {},
   "outputs": [],
   "source": [
    "from langchain.prompts import PromptTemplate, SystemMessagePromptTemplate,ChatPromptTemplate, HumanMessagePromptTemplate\n",
    "from langchain_openai import ChatOpenAI\n",
    "from langchain.chains import SimpleSequentialChain, LLMChain,TransformChain\n",
    "from dotenv import load_dotenv\n",
    "from langchain_community.vectorstores import SKLearnVectorStore\n",
    "from langchain_community.document_loaders import PDFPlumberLoader\n",
    "from langchain.agents import load_tools,initialize_agent,AgentType,create_react_agent,AgentExecutor\n",
    "from langchain.text_splitter import CharacterTextSplitter\n",
    "from langchain_openai import OpenAIEmbeddings\n",
    "from langchain.docstore.document import Document\n",
    "from langchain_core.prompts import PromptTemplate\n",
    "import streamlit as st"
   ]
  },
  {
   "cell_type": "markdown",
   "metadata": {},
   "source": [
    "#### Creacion del modelo "
   ]
  },
  {
   "cell_type": "code",
   "execution_count": 4,
   "metadata": {},
   "outputs": [],
   "source": [
    "load_dotenv()\n",
    "llm = ChatOpenAI(model=\"gpt-3.5-turbo\", temperature= 0.2)\n",
    "embedings = OpenAIEmbeddings()"
   ]
  },
  {
   "cell_type": "markdown",
   "metadata": {},
   "source": [
    "#### Vectorizacion del pdf ####\n",
    "\n",
    " "
   ]
  },
  {
   "cell_type": "code",
   "execution_count": 5,
   "metadata": {},
   "outputs": [],
   "source": [
    "def vectorizacion_pdf(pdf):\n",
    "    loader = PDFPlumberLoader(pdf)\n",
    "    docs = loader.load()\n",
    "    text = \"\\n\".join([page.page_content for page in docs])\n",
    "    pdf_splitter = CharacterTextSplitter(chunk_size=900, chunk_overlap=80)\n",
    "    texts = pdf_splitter.split_text(text)\n",
    "    documents = [Document(page_content=t) for t in texts]\n",
    "    persist_path=f\"./{pdf}_bd\"  #ruta donde se guardará la BBDD vectorizado\n",
    "    #Creamos la BBDD de vectores a partir de los documentos y la función embeddings\n",
    "    vector_store = SKLearnVectorStore.from_documents(\n",
    "        documents=documents,\n",
    "        embedding=embedings,\n",
    "        persist_path=persist_path,\n",
    "        serializer=\"parquet\", #el serializador o formato de la BD lo definimos como parquet\n",
    "    )\n",
    "    return vector_store.persist()"
   ]
  },
  {
   "cell_type": "markdown",
   "metadata": {},
   "source": [
    "#### Consulta sobre el pdf ####"
   ]
  },
  {
   "cell_type": "code",
   "execution_count": 6,
   "metadata": {},
   "outputs": [],
   "source": [
    "def consulta_pdf(vector_store,consulta):\n",
    "    #Cargamos la BBDD de vectores\n",
    "    vector_store_connection = SKLearnVectorStore.load(vector_store)\n",
    "    if vector_store_connection is None:\n",
    "        print(\"No se ha encontrado una instancia de la BBDD de vectores en \", vector_store)\n",
    "        return None\n",
    "    else:\n",
    "        print(\"Una instancia de la BBDD de vectores se ha cargado desde \", vector_store)\n",
    "    #Realizamos la consulta a la BBDD de vectores\n",
    "        docs = vector_store_connection.similarity_search(consulta, k = 2)\n",
    "        print(docs[0].page_content)\n",
    "        return docs"
   ]
  },
  {
   "cell_type": "markdown",
   "metadata": {},
   "source": [
    "#### consulta sobre el extracto de pdf ####"
   ]
  },
  {
   "cell_type": "code",
   "execution_count": 31,
   "metadata": {},
   "outputs": [],
   "source": [
    "prompt_template = PromptTemplate.from_template(\n",
    "    \"Eres un agente que responde preguntas {input} sobre un extracto de PDF {extracto}\"\n",
    ")"
   ]
  },
  {
   "cell_type": "code",
   "execution_count": 33,
   "metadata": {},
   "outputs": [],
   "source": [
    "qa_chain = LLMChain(llm=llm, prompt=prompt_template)"
   ]
  },
  {
   "cell_type": "markdown",
   "metadata": {},
   "source": [
    "#### FRONT"
   ]
  },
  {
   "cell_type": "code",
   "execution_count": null,
   "metadata": {},
   "outputs": [
    {
     "name": "stderr",
     "output_type": "stream",
     "text": [
      "2025-02-15 17:49:26.598 WARNING streamlit.runtime.scriptrunner_utils.script_run_context: Thread 'MainThread': missing ScriptRunContext! This warning can be ignored when running in bare mode.\n",
      "2025-02-15 17:49:26.944 \n",
      "  \u001b[33m\u001b[1mWarning:\u001b[0m to view this Streamlit app on a browser, run it with the following\n",
      "  command:\n",
      "\n",
      "    streamlit run c:\\Users\\tomas\\anaconda3\\envs\\langchain\\Lib\\site-packages\\ipykernel_launcher.py [ARGUMENTS]\n",
      "2025-02-15 17:49:26.945 Thread 'MainThread': missing ScriptRunContext! This warning can be ignored when running in bare mode.\n"
     ]
    },
    {
     "data": {
      "text/plain": [
       "DeltaGenerator()"
      ]
     },
     "execution_count": 7,
     "metadata": {},
     "output_type": "execute_result"
    }
   ],
   "source": [
    "st.title(\"Consulta de documentos PDF\")\n",
    "st.write(\"Este programa permite realizar consultas en documentos PDF...solo pdf por ahora\")\n",
    "\n",
    "\n",
    "\n"
   ]
  },
  {
   "cell_type": "code",
   "execution_count": null,
   "metadata": {},
   "outputs": [],
   "source": []
  }
 ],
 "metadata": {
  "kernelspec": {
   "display_name": "Python [conda env:base] *",
   "language": "python",
   "name": "conda-base-py"
  },
  "language_info": {
   "codemirror_mode": {
    "name": "ipython",
    "version": 3
   },
   "file_extension": ".py",
   "mimetype": "text/x-python",
   "name": "python",
   "nbconvert_exporter": "python",
   "pygments_lexer": "ipython3",
   "version": "3.12.7"
  }
 },
 "nbformat": 4,
 "nbformat_minor": 4
}
