{
 "cells": [
  {
   "cell_type": "code",
   "execution_count": 1,
   "metadata": {},
   "outputs": [],
   "source": [
    "from langchain.prompts import PromptTemplate, SystemMessagePromptTemplate,ChatPromptTemplate, HumanMessagePromptTemplate\n",
    "from langchain_openai import ChatOpenAI\n",
    "from dotenv import load_dotenv"
   ]
  },
  {
   "cell_type": "code",
   "execution_count": 2,
   "metadata": {},
   "outputs": [
    {
     "data": {
      "text/plain": [
       "True"
      ]
     },
     "execution_count": 2,
     "metadata": {},
     "output_type": "execute_result"
    }
   ],
   "source": [
    "load_dotenv()"
   ]
  },
  {
   "cell_type": "code",
   "execution_count": 3,
   "metadata": {},
   "outputs": [],
   "source": [
    "from langchain_openai import OpenAIEmbeddings"
   ]
  },
  {
   "cell_type": "code",
   "execution_count": 4,
   "metadata": {},
   "outputs": [],
   "source": [
    "embeddings = OpenAIEmbeddings()"
   ]
  },
  {
   "cell_type": "code",
   "execution_count": 5,
   "metadata": {},
   "outputs": [],
   "source": [
    "texto = 'Estos es un texto enviado a openai para ser incrustado enun vector'"
   ]
  },
  {
   "cell_type": "code",
   "execution_count": 7,
   "metadata": {},
   "outputs": [],
   "source": [
    "embedded_text = embeddings.embed_query(texto)"
   ]
  },
  {
   "cell_type": "code",
   "execution_count": 13,
   "metadata": {},
   "outputs": [],
   "source": [
    "from langchain.document_loaders import CSVLoader"
   ]
  },
  {
   "cell_type": "code",
   "execution_count": 14,
   "metadata": {},
   "outputs": [],
   "source": [
    "loader = CSVLoader('Fuentes datos/datos_ventas_small.csv',csv_args={'delimiter':';'})"
   ]
  },
  {
   "cell_type": "code",
   "execution_count": 15,
   "metadata": {},
   "outputs": [],
   "source": [
    "data = loader.load()"
   ]
  },
  {
   "cell_type": "code",
   "execution_count": 17,
   "metadata": {},
   "outputs": [
    {
     "data": {
      "text/plain": [
       "['\\ufeffID: 10145\\nCantidad: 45\\nPrecio unitario: 83,26\\nVenta total: 3746,7\\nFecha compra: 25/08/2023\\nEstado: Shipped\\nLínea Producto: Motorcycles\\nCódigo Producto: S10_1678\\nNombre cliente: Toys4GrownUps,com\\nCiudad: Pasadena\\nPaís: USA\\nTerritorio: NA\\nTamaño pedido: Medium',\n",
       " '\\ufeffID: 10159\\nCantidad: 0\\nPrecio unitario: 100\\nVenta total: 0\\nFecha compra: 10/10/2023\\nEstado: Shipped\\nLínea Producto: Motorcycles\\nCódigo Producto: S10_1678\\nNombre cliente: Corporate Gift Ideas Co,\\nCiudad: San Francisco\\nPaís: USA\\nTerritorio: NA\\nTamaño pedido: Medium',\n",
       " '\\ufeffID: 10168\\nCantidad: 36\\nPrecio unitario: 96,66\\nVenta total: 3479,76\\nFecha compra: 28/10/2023\\nEstado: Shipped\\nLínea Producto: Motorcycles\\nCódigo Producto: S10_1678\\nNombre cliente: Technics Stores Inc,\\nCiudad: Burlingame\\nPaís: USA\\nTerritorio: NA\\nTamaño pedido: Medium',\n",
       " '\\ufeffID: 10180\\nCantidad: 29\\nPrecio unitario: 86,13\\nVenta total: 2497,.77\\nFecha compra: 11/11/2023\\nEstado: Shipped\\nLínea Producto: Motorcycles\\nCódigo Producto: S10_1678\\nNombre cliente: Daedalus Designs Imports\\nCiudad: Lille\\nPaís: France\\nTerritorio: EMEA\\nTamaño pedido: Small',\n",
       " '\\ufeffID: 10188\\nCantidad: 48\\nPrecio unitario: 100\\nVenta total: 5512,32\\nFecha compra: 18/11/2023\\nEstado: Shipped\\nLínea Producto: Motorcycles\\nCódigo Producto: S10_1678\\nNombre cliente: Herkku Gifts\\nCiudad: Bergen\\nPaís: Norway\\nTerritorio: EMEA\\nTamaño pedido: Medium',\n",
       " '\\ufeffID: 10201\\nCantidad: 22\\nPrecio unitario: 98,57\\nVenta total: 2168,54\\nFecha compra: 12/01/2023\\nEstado: Shippe\\nLínea Producto: Motorcycles\\nCódigo Producto: S10_1678\\nNombre cliente: Mini Wheels Co,\\nCiudad: San Francisco\\nPaís: USA\\nTerritorio: NA\\nTamaño pedido: Small',\n",
       " '\\ufeffID: 10237\\nCantidad: 23\\nPrecio unitario: 100\\nVenta total: 2333,12\\nFecha compra: 04/05/2024\\nEstado: Shipped\\nLínea Producto: Motorcycles\\nCódigo Producto: S10_1678\\nNombre cliente: Vitachrome Inc,\\nCiudad: NYC\\nPaís: USA\\nTerritorio: NA\\nTamaño pedido: Small',\n",
       " '\\ufeffID: 10251\\nCantidad: 28\\nPrecio unitario: 100\\nVenta total: 3188,64\\nFecha compra: 12/01/2023\\nEstado: Shipped\\nLínea Producto: Motorcycles\\nCódigo Producto: S10_1678\\nNombre cliente: Tekni Collectables Inc,\\nCiudad: Newark\\nPaís: USA\\nTerritorio: NA\\nTamaño pedido: Medium',\n",
       " '\\ufeffID: 10375\\nCantidad: 42\\nPrecio unitario: 34,91\\nVenta total: 1466,22\\nFecha compra: 02/03/2024\\nEstado: Shipped\\nLínea Producto: Motorcycles\\nCódigo Producto: S10_1678\\nNombre cliente: La Rochelle Gifts\\nCiudad: Nantes\\nPaís: France\\nTerritorio: EMEA\\nTamaño pedido: Small',\n",
       " '\\ufeffID: 10388\\nCantidad: 84\\nPrecio unitario: 76,36\\nVenta total: 6414,24\\nFecha compra: 03/03/2024\\nEstado: Shipped\\nLínea Producto: Motorcycles\\nCódigo Producto: S10_1678\\nNombre cliente: FunGiftIdeas,com\\nCiudad: New Bedford\\nPaís: USA\\nTerritorio: NA\\nTamaño pedido: Medium',\n",
       " '\\ufeffID: 10403\\nCantidad: 48\\nPrecio unitario: 100\\nVenta total: 4869,12\\nFecha compra: 04/08/2024\\nEstado: Shipped\\nLínea Producto: Motorcycles\\nCódigo Producto: S10_1678\\nNombre cliente: UK Collectables, Ltd,\\nCiudad: Liverpool\\nPaís: UK\\nTerritorio: EMEA\\nTamaño pedido: Small',\n",
       " '\\ufeffID: 10228\\nCantidad: 29\\nPrecio unitario: 100\\nVenta total: 6463,23\\nFecha compra: 03/10/2024\\nEstado: Shipped\\nLínea Producto: Classic Cars\\nCódigo Producto: S10_1949\\nNombre cliente: Cambridge Collectables Co,\\nCiudad: Cambridge\\nPaís: USA\\nTerritorio: NA\\nTamaño pedido: Medium',\n",
       " '\\ufeffID: 10245\\nCantidad: 34\\nPrecio unitario: 100\\nVenta total: 6120,34\\nFecha compra: 05/04/2024\\nEstado: Shipped\\nLínea Producto: Classic Cars\\nCódigo Producto: S10_1949\\nNombre cliente: Super Scale Inc,\\nCiudad: New Haven\\nPaís: USA\\nTerritorio: NA\\nTamaño pedido: Medium',\n",
       " '\\ufeffID: 10291\\nCantidad: 37\\nPrecio unitario: 100\\nVenta total: 7136,19\\nFecha compra: 09/08/2024\\nEstado: Shipped\\nLínea Producto: Classic Cars\\nCódigo Producto: S10_1949\\nNombre cliente: Scandinavian Gift Ideas\\nCiudad: Boras\\nPaís: Sweden\\nTerritorio: EMEA\\nTamaño pedido: Large',\n",
       " '\\ufeffID: 10304\\nCantidad: 47\\nPrecio unitario: 100\\nVenta total: 10172,7\\nFecha compra: 10/11/2024\\nEstado: Shipped\\nLínea Producto: Classic Cars\\nCódigo Producto: S10_1949\\nNombre cliente: Auto Assoc, & Cie,\\nCiudad: Versailles\\nPaís: France\\nTerritorio: EMEA\\nTamaño pedido: Large',\n",
       " '\\ufeffID: 10322\\nCantidad: 40\\nPrecio unitario: 100\\nVenta total: 6000,4\\nFecha compra: 11/04/2024\\nEstado: Shipped\\nLínea Producto: Classic Cars\\nCódigo Producto: S10_1949\\nNombre cliente: Online Diecast Creations Co,\\nCiudad: Nashua\\nPaís: USA\\nTerritorio: NA\\nTamaño pedido: Medium',\n",
       " '\\ufeffID: 10391\\nCantidad: 40\\nPrecio unitario: 100\\nVenta total: 6000,4\\nFecha compra: 11/04/2024\\nEstado: Shipped\\nLínea Producto: Classic Cars\\nCódigo Producto: S10_1949\\nNombre cliente: Online Diecast Creations Co,\\nCiudad: Nashua\\nPaís: USA\\nTerritorio: NA\\nTamaño pedido: Medium',\n",
       " \"\\ufeffID: 10391\\nCantidad: 48\\nPrecio unitario: 100\\nVenta total: 4833,12\\nFecha compra: 03/09/2024\\nEstado: Shipped\\nLínea Producto: Classic Cars\\nCódigo Producto: S10_1949\\nNombre cliente: Anna's Decorations, Ltd\\nCiudad: North Sydney\\nPaís: Australia\\nTerritorio: APAC\\nTamaño pedido: Small\",\n",
       " '\\ufeffID: 10411\\nCantidad: 46\\nPrecio unitario: 100\\nVenta total: 8280,46\\nFecha compra: 05/01/2024\\nEstado: Shipped\\nLínea Producto: Classic Cars\\nCódigo Producto: S10_1949\\nNombre cliente: Quebec Home Shopping Network\\nCiudad: Montreal\\nPaís: Canada\\nTerritorio: NA\\nTamaño pedido: Medium',\n",
       " '\\ufeffID: 10134\\nCantidad: 27\\nPrecio unitario: 100\\nVenta total: 3307,77\\nFecha compra: 07/01/2023\\nEstado: Shipped\\nLínea Producto: Motorcycles\\nCódigo Producto: S10_2016\\nNombre cliente: Lyon Souveniers\\nCiudad: Paris\\nPaís: France\\nTerritorio: EMEA\\nTamaño pedido: Medium',\n",
       " '\\ufeffID: 10159\\nCantidad: 37\\nPrecio unitario: 100\\nVenta total: 5016,83\\nFecha compra: 10/10/2023\\nEstado: Shipped\\nLínea Producto: Motorcycles\\nCódigo Producto: S10_2016\\nNombre cliente: Corporate Gift Ideas Co,\\nCiudad: San Francisco\\nPaís: USA\\nTerritorio: NA\\nTamaño pedido: Medium',\n",
       " '\\ufeffID: 10159\\nCantidad: 37\\nPrecio unitario: 100\\nVenta total: 5016,83\\nFecha compra: 10/10/2023\\nEstado: Shipped\\nLínea Producto: Motorcycles\\nCódigo Producto: S10_2016\\nNombre cliente: Corporate Gift Ideas Co,\\nCiudad: San Francisco\\nPaís: USA\\nTerritorio: NA\\nTamaño pedido: Medium']"
      ]
     },
     "execution_count": 17,
     "metadata": {},
     "output_type": "execute_result"
    }
   ],
   "source": [
    "[elemento.page_content for elemento in data]"
   ]
  },
  {
   "cell_type": "code",
   "execution_count": null,
   "metadata": {},
   "outputs": [],
   "source": [
    "embedded_docs = embeddings.embed_documents([elemento.page_content for elemento in data]) "
   ]
  }
 ],
 "metadata": {
  "kernelspec": {
   "display_name": "langchain",
   "language": "python",
   "name": "python3"
  },
  "language_info": {
   "codemirror_mode": {
    "name": "ipython",
    "version": 3
   },
   "file_extension": ".py",
   "mimetype": "text/x-python",
   "name": "python",
   "nbconvert_exporter": "python",
   "pygments_lexer": "ipython3",
   "version": "3.12.8"
  }
 },
 "nbformat": 4,
 "nbformat_minor": 2
}
