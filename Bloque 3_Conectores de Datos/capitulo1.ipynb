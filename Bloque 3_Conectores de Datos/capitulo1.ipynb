{
 "cells": [
  {
   "cell_type": "code",
   "execution_count": 1,
   "metadata": {},
   "outputs": [],
   "source": [
    "from langchain.prompts import PromptTemplate, SystemMessagePromptTemplate,ChatPromptTemplate, HumanMessagePromptTemplate\n",
    "from langchain_openai import ChatOpenAI\n",
    "from dotenv import load_dotenv"
   ]
  },
  {
   "cell_type": "code",
   "execution_count": 4,
   "metadata": {},
   "outputs": [],
   "source": [
    "load_dotenv()\n",
    "llm = ChatOpenAI(model=\"gpt-3.5-turbo\",temperature=0)"
   ]
  },
  {
   "cell_type": "code",
   "execution_count": 5,
   "metadata": {},
   "outputs": [],
   "source": [
    "from langchain.document_loaders import CSVLoader"
   ]
  },
  {
   "cell_type": "code",
   "execution_count": 8,
   "metadata": {},
   "outputs": [],
   "source": [
    "loader = CSVLoader(\"Fuentes datos/datos_ventas_small.csv\",csv_args={\"delimiter\":\",\"})"
   ]
  },
  {
   "cell_type": "code",
   "execution_count": 9,
   "metadata": {},
   "outputs": [],
   "source": [
    "data = loader.load()"
   ]
  },
  {
   "cell_type": "code",
   "execution_count": 10,
   "metadata": {},
   "outputs": [
    {
     "data": {
      "text/plain": [
       "list"
      ]
     },
     "execution_count": 10,
     "metadata": {},
     "output_type": "execute_result"
    }
   ],
   "source": [
    "type(data)"
   ]
  },
  {
   "cell_type": "code",
   "execution_count": 17,
   "metadata": {},
   "outputs": [
    {
     "name": "stdout",
     "output_type": "stream",
     "text": [
      "Collecting pypdf\n",
      "  Downloading pypdf-5.3.0-py3-none-any.whl.metadata (7.2 kB)\n",
      "Downloading pypdf-5.3.0-py3-none-any.whl (300 kB)\n",
      "Installing collected packages: pypdf\n",
      "Successfully installed pypdf-5.3.0\n"
     ]
    }
   ],
   "source": [
    "!pip install pypdf"
   ]
  },
  {
   "cell_type": "code",
   "execution_count": 18,
   "metadata": {},
   "outputs": [],
   "source": [
    "from langchain_community.document_loaders import PyPDFLoader\n",
    "\n",
    "file_path = \"fuentes datos/el.pdf\"\n",
    "loader = PyPDFLoader(file_path)"
   ]
  },
  {
   "cell_type": "code",
   "execution_count": 27,
   "metadata": {},
   "outputs": [],
   "source": [
    "pages=loader.load_and_split()\n",
    "contenido = pages[0].page_content"
   ]
  },
  {
   "cell_type": "code",
   "execution_count": 39,
   "metadata": {},
   "outputs": [],
   "source": [
    "human_template = 'quiero que me hagas un resumen de el siguiente pdf{pdf} pero que me lo explique con tus palabras '\n",
    "human_prompt = HumanMessagePromptTemplate.from_template(human_template)"
   ]
  },
  {
   "cell_type": "code",
   "execution_count": 40,
   "metadata": {},
   "outputs": [
    {
     "data": {
      "text/plain": [
       "ChatPromptValue(messages=[HumanMessage(content='quiero que me hagas un resumen de el siguiente pdfEstas son las 9 tecnologías \\nemergentes para el próximo \\n2025 \\n  \\n“Que la tecnología ha cambiado nuestra manera de vivir e interactuar \\nes un hecho. Sin embargo, aún no somos conscientes de las \\npotencialidades de usos de las tecnologías.Por ejemplo, para el año \\n2025 se espera una verdadera revolución tecnológica, sobre todo \\nenfocado en el sector bio-médico pero también en las relaciones \\nhumanas entre individuos a distancia, en la protección del medio \\nambiente o en la protección de nuestros datos personales”, afirma \\nJuan Quintanilla, director general de Syntonize. \\n9 Tecnologías emergentes según Syntonize \\nLa aplicación de nuevas tecnologías que hagan más fácil la vida a \\nprofesionales, estudiantes, mayores, empresas o instituciones \\npúblicas se espera que aumente en los próximos años. Entre ellas se \\nencuentran; \\n\\uf0b7 Producción optimizada por la Inteligencia Artificial: las \\nempresas están adoptando rápidamente tecnologías basadas \\nen la nube. Gracias a ello, podrán agregar, transformar de \\nmanera inteligente y presentar contextualmente datos de \\nproductos y procesos de las líneas de fabricación. Para 2025, \\neste flujo ubicuo de datos y los algoritmos \\ninteligentes  permitirán que las líneas de fabricación se pero que me lo explique con tus palabras ', additional_kwargs={}, response_metadata={})])"
      ]
     },
     "execution_count": 40,
     "metadata": {},
     "output_type": "execute_result"
    }
   ],
   "source": [
    "chat_prompt = ChatPromptTemplate.from_messages([human_prompt])\n",
    "chat_prompt.format_prompt(pdf=contenido)"
   ]
  },
  {
   "cell_type": "code",
   "execution_count": 41,
   "metadata": {},
   "outputs": [],
   "source": [
    "solicitud_resumen = chat_prompt.format_prompt(pdf=contenido).to_messages()"
   ]
  },
  {
   "cell_type": "code",
   "execution_count": 42,
   "metadata": {},
   "outputs": [],
   "source": [
    "result = llm.invoke(solicitud_resumen)"
   ]
  },
  {
   "cell_type": "code",
   "execution_count": 43,
   "metadata": {},
   "outputs": [
    {
     "data": {
      "text/plain": [
       "'En el año 2025 se espera una revolución tecnológica en el sector bio-médico y en las relaciones humanas a distancia, así como en la protección del medio ambiente y de nuestros datos personales. Según Syntonize, se espera que nuevas tecnologías faciliten la vida de profesionales, estudiantes, personas mayores, empresas e instituciones públicas. Entre las 9 tecnologías emergentes destacadas se encuentra la producción optimizada por la Inteligencia Artificial, donde las empresas adoptarán tecnologías basadas en la nube para agregar, transformar y presentar datos de productos y procesos de manera inteligente. Esto permitirá que las líneas de fabricación sean más eficientes en el año 2025.'"
      ]
     },
     "execution_count": 43,
     "metadata": {},
     "output_type": "execute_result"
    }
   ],
   "source": [
    "result.content"
   ]
  },
  {
   "cell_type": "code",
   "execution_count": null,
   "metadata": {},
   "outputs": [],
   "source": []
  },
  {
   "cell_type": "code",
   "execution_count": null,
   "metadata": {},
   "outputs": [],
   "source": []
  }
 ],
 "metadata": {
  "kernelspec": {
   "display_name": "langchain",
   "language": "python",
   "name": "python3"
  },
  "language_info": {
   "codemirror_mode": {
    "name": "ipython",
    "version": 3
   },
   "file_extension": ".py",
   "mimetype": "text/x-python",
   "name": "python",
   "nbconvert_exporter": "python",
   "pygments_lexer": "ipython3",
   "version": "3.12.8"
  }
 },
 "nbformat": 4,
 "nbformat_minor": 2
}
